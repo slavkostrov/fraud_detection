{
 "cells": [
  {
   "cell_type": "code",
   "execution_count": 66,
   "metadata": {},
   "outputs": [],
   "source": [
    "import os\n",
    "import requests\n",
    "import random\n",
    "import time\n",
    "import typing as tp"
   ]
  },
  {
   "cell_type": "code",
   "execution_count": 72,
   "metadata": {},
   "outputs": [],
   "source": [
    "SERVICE_IP = f\"http://{os.getenv('MODEL_SERVICE_API')}\"\n",
    "SERVICE_PORT = 8000\n",
    "\n",
    "def generate_valid_requests(N: int = 1, sleep_time: tp.Optional[int] = None) -> None:\n",
    "    for i in range(N):\n",
    "        customer_id, terminal_id = random.randint(0, 1000), random.randint(0, 1000)\n",
    "        amount = random.randint(0, 500)\n",
    "        time_seconds = random.randint(0, 1000)\n",
    "\n",
    "        response = requests.post(\n",
    "            f\"{SERVICE_IP}:{SERVICE_PORT}/predict?transaction_id={random.randint(0, 1000)}\",\n",
    "            data=\"{\" + f'\"TX_AMOUNT\": {amount}, \"TX_TIME_SECONDS\": {time_seconds}, '\n",
    "            f'\"TERMINAL_ID\": {terminal_id}, \"CUSTOMER_ID\": {customer_id}' + \"}\",\n",
    "        )\n",
    "        \n",
    "        print(f\"Request №{i}, JSON answer: {response.json()}\")\n",
    "        if sleep_time is not None:\n",
    "            time.sleep(sleep_time)"
   ]
  },
  {
   "cell_type": "code",
   "execution_count": 73,
   "metadata": {},
   "outputs": [
    {
     "name": "stdout",
     "output_type": "stream",
     "text": [
      "Request №0, JSON answer: {'transaction_id': 744, 'is_fraud': 0}\n",
      "Request №1, JSON answer: {'transaction_id': 100, 'is_fraud': 1}\n",
      "Request №2, JSON answer: {'transaction_id': 332, 'is_fraud': 0}\n",
      "Request №3, JSON answer: {'transaction_id': 607, 'is_fraud': 0}\n",
      "Request №4, JSON answer: {'transaction_id': 451, 'is_fraud': 1}\n",
      "Request №5, JSON answer: {'transaction_id': 961, 'is_fraud': 0}\n",
      "Request №6, JSON answer: {'transaction_id': 824, 'is_fraud': 1}\n",
      "Request №7, JSON answer: {'transaction_id': 270, 'is_fraud': 0}\n",
      "Request №8, JSON answer: {'transaction_id': 22, 'is_fraud': 1}\n",
      "Request №9, JSON answer: {'transaction_id': 317, 'is_fraud': 0}\n"
     ]
    }
   ],
   "source": [
    "generate_valid_requests(10)"
   ]
  },
  {
   "cell_type": "code",
   "execution_count": 74,
   "metadata": {},
   "outputs": [],
   "source": [
    "def generate_invalid_requests(N: int = 1, sleep_time: tp.Optional[int] = None) -> None:\n",
    "    for _ in range(N):\n",
    "        print(\n",
    "            \"answer:\",\n",
    "            requests.post(\n",
    "                f\"{SERVICE_IP}:{SERVICE_PORT}/predict?transaction_id=1\",\n",
    "                data=\"{\" + f'\"TX_AMOUNT\": xxx, \"TX_TIME_SECONDS\": yyy, '\n",
    "                f'\"TERMINAL_ID\": zzz, \"CUSTOMER_ID\": 1' + \"}\",\n",
    "            )\n",
    "        )\n",
    "        if sleep_time is not None:\n",
    "            time.sleep(sleep_time)"
   ]
  },
  {
   "cell_type": "code",
   "execution_count": 75,
   "metadata": {},
   "outputs": [
    {
     "name": "stdout",
     "output_type": "stream",
     "text": [
      "answer: <Response [422]>\n",
      "answer: <Response [422]>\n",
      "answer: <Response [422]>\n",
      "answer: <Response [422]>\n",
      "answer: <Response [422]>\n",
      "answer: <Response [422]>\n",
      "answer: <Response [422]>\n",
      "answer: <Response [422]>\n",
      "answer: <Response [422]>\n",
      "answer: <Response [422]>\n"
     ]
    }
   ],
   "source": [
    "generate_invalid_requests(10)"
   ]
  },
  {
   "cell_type": "code",
   "execution_count": null,
   "metadata": {},
   "outputs": [],
   "source": []
  }
 ],
 "metadata": {
  "kernelspec": {
   "display_name": "Python 3",
   "language": "python",
   "name": "python3"
  },
  "language_info": {
   "codemirror_mode": {
    "name": "ipython",
    "version": 3
   },
   "file_extension": ".py",
   "mimetype": "text/x-python",
   "name": "python",
   "nbconvert_exporter": "python",
   "pygments_lexer": "ipython3",
   "version": "3.7.6"
  }
 },
 "nbformat": 4,
 "nbformat_minor": 2
}
