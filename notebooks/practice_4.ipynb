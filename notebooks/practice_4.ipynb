{
 "cells": [
  {
   "cell_type": "code",
   "execution_count": 1,
   "id": "ce42b75e",
   "metadata": {},
   "outputs": [
    {
     "data": {
      "text/plain": [
       "<pyspark.conf.SparkConf at 0x7faacc753f10>"
      ]
     },
     "execution_count": 1,
     "metadata": {},
     "output_type": "execute_result"
    }
   ],
   "source": [
    "import findspark\n",
    "findspark.init()\n",
    "\n",
    "import pyspark\n",
    "from pyspark import SparkContext, SparkConf\n",
    "\n",
    "conf = SparkConf()\n",
    "conf.setAppName('practice_2')\n",
    "conf.set(\"spark.dynamicAllocation.enabled\", \"true\")\n",
    "conf.set(\"spark.sql.sources.partitionOverwriteMode\",\"dynamic\")\n",
    "conf.set(\"spark.driver.maxResultSize\", \"4G\")\n",
    "conf.set(\"spark.driver.memory\", \"4G\")\n",
    "conf.set(\"spark.executor.memory\", \"4G\")\n",
    "conf.set(\"spark.driver.allowMultipleContexts\", \"true\")"
   ]
  },
  {
   "cell_type": "code",
   "execution_count": 2,
   "id": "6ae4a68b",
   "metadata": {},
   "outputs": [
    {
     "name": "stdout",
     "output_type": "stream",
     "text": [
      "Found 4 items\r\n",
      "-rw-r--r--   1 ubuntu hadoop          0 2022-09-09 19:01 all_transactions_table.parquet/_SUCCESS\r\n",
      "drwxr-xr-x   - ubuntu hadoop          0 2022-09-06 20:40 all_transactions_table.parquet/date=2022-09-06\r\n",
      "drwxr-xr-x   - ubuntu hadoop          0 2022-09-09 19:01 all_transactions_table.parquet/date=2022-09-08\r\n",
      "drwxr-xr-x   - ubuntu hadoop          0 2022-09-09 19:01 all_transactions_table.parquet/date=2022-09-09\r\n"
     ]
    }
   ],
   "source": [
    "! hdfs dfs -ls ./all_transactions_table.parquet"
   ]
  },
  {
   "cell_type": "code",
   "execution_count": 3,
   "id": "885603f7",
   "metadata": {},
   "outputs": [],
   "source": [
    "spark = pyspark.sql.SparkSession.builder.config(conf=conf).getOrCreate()\n",
    "\n",
    "table = spark.read.parquet(\"./all_transactions_table.parquet\")"
   ]
  },
  {
   "cell_type": "code",
   "execution_count": 4,
   "id": "9260d5a3",
   "metadata": {},
   "outputs": [
    {
     "data": {
      "text/plain": [
       "29095"
      ]
     },
     "execution_count": 4,
     "metadata": {},
     "output_type": "execute_result"
    }
   ],
   "source": [
    "table.cache()\n",
    "table.count()"
   ]
  },
  {
   "cell_type": "code",
   "execution_count": 5,
   "id": "5b015f21",
   "metadata": {},
   "outputs": [
    {
     "name": "stdout",
     "output_type": "stream",
     "text": [
      "root\n",
      " |-- TRANSACTION_ID: long (nullable = true)\n",
      " |-- TX_DATETIME: timestamp (nullable = true)\n",
      " |-- CUSTOMER_ID: long (nullable = true)\n",
      " |-- TERMINAL_ID: long (nullable = true)\n",
      " |-- TX_AMOUNT: double (nullable = true)\n",
      " |-- TX_TIME_SECONDS: long (nullable = true)\n",
      " |-- TX_TIME_DAYS: long (nullable = true)\n",
      " |-- TX_FRAUD: long (nullable = true)\n",
      " |-- TX_FRAUD_SCENARIO: long (nullable = true)\n",
      " |-- date: date (nullable = true)\n",
      "\n"
     ]
    }
   ],
   "source": [
    "table.printSchema()"
   ]
  },
  {
   "cell_type": "code",
   "execution_count": 6,
   "id": "8adfab6d",
   "metadata": {},
   "outputs": [],
   "source": [
    "from pyspark.ml.feature import StandardScaler\n",
    "from pyspark.ml.feature import VectorAssembler\n",
    "from pyspark.sql.window import Window\n",
    "import pyspark.sql.functions as F\n",
    "\n",
    "customer_window = Window.partitionBy(\"CUSTOMER_ID\")\n",
    "terminal_window = Window.partitionBy(\"TERMINAL_ID\")\n",
    "\n",
    "prepared_table = (\n",
    "    table\n",
    "        .withColumn(\"f_mean_customer_TX_AMOUNT\", F.mean(F.col(\"TX_AMOUNT\")).over(customer_window))\n",
    "        .withColumn(\"f_mean_terminal_TX_AMOUNT\", F.mean(F.col(\"TX_AMOUNT\")).over(terminal_window))\n",
    "        .withColumn(\"f_unq_terminals_per_customer\",\n",
    "                    F.approx_count_distinct(F.col(\"TERMINAL_ID\")).over(terminal_window))\n",
    "        .withColumn(\n",
    "        \"f_customer_amount_ratio\",\n",
    "        F.col(\"TX_AMOUNT\") / F.col(\"f_mean_customer_TX_AMOUNT\")\n",
    "    )\n",
    "        .withColumn(\n",
    "        \"f_terminal_amount_ratio\",\n",
    "        F.col(\"TX_AMOUNT\") / F.col(\"f_mean_terminal_TX_AMOUNT\")\n",
    "    )\n",
    "        .withColumnRenamed(\"TX_AMOUNT\", \"f_TX_AMOUNT\")\n",
    "        .withColumnRenamed(\"TX_TIME_SECONDS\", \"f_TX_TIME_SECONDS\")\n",
    ")\n",
    "\n",
    "features = list(filter(lambda x: x.startswith(\"f_\"), prepared_table.columns))\n",
    "vec_assembler = VectorAssembler(inputCols=features, outputCol=\"features\")\n",
    "prepared_table = vec_assembler.transform(prepared_table)\n",
    "\n",
    "scaler = StandardScaler(\n",
    "    inputCol=\"features\",\n",
    "    outputCol=\"scaledFeatures\",\n",
    "    withStd=True,\n",
    "    withMean=True\n",
    ")\n",
    "\n",
    "scalerModel = scaler.fit(prepared_table)\n",
    "prepared_table = scalerModel.transform(prepared_table)\n",
    "prepared_dataset = prepared_table.select(\"scaledFeatures\", \"TX_FRAUD\", \"date\")\n",
    "\n",
    "df = prepared_table.toPandas()"
   ]
  },
  {
   "cell_type": "code",
   "execution_count": 7,
   "id": "133d17ad",
   "metadata": {},
   "outputs": [
    {
     "name": "stderr",
     "output_type": "stream",
     "text": [
      "<ipython-input-7-5ee653054262>:14: SettingWithCopyWarning: \n",
      "A value is trying to be set on a copy of a slice from a DataFrame.\n",
      "Try using .loc[row_indexer,col_indexer] = value instead\n",
      "\n",
      "See the caveats in the documentation: https://pandas.pydata.org/pandas-docs/stable/user_guide/indexing.html#returning-a-view-versus-a-copy\n",
      "  test_df[\"predict\"] = lr.predict(test_df)\n",
      "<ipython-input-7-5ee653054262>:15: SettingWithCopyWarning: \n",
      "A value is trying to be set on a copy of a slice from a DataFrame.\n",
      "Try using .loc[row_indexer,col_indexer] = value instead\n",
      "\n",
      "See the caveats in the documentation: https://pandas.pydata.org/pandas-docs/stable/user_guide/indexing.html#returning-a-view-versus-a-copy\n",
      "  test_df[\"target\"] = test_target\n"
     ]
    }
   ],
   "source": [
    "from sklearn.linear_model import LogisticRegression\n",
    "import pandas as pd\n",
    "features_df = pd.DataFrame([list(x) for x in df['scaledFeatures'].values], columns=features)\n",
    "target_column = [\"TX_FRAUD\"][0]\n",
    "from sklearn.model_selection import train_test_split\n",
    "train_df, test_df, train_target, test_target = train_test_split(\n",
    "    features_df,\n",
    "    df[target_column],\n",
    "    stratify=df[target_column],\n",
    "    test_size=.3,\n",
    ")\n",
    "lr = LogisticRegression(solver='liblinear')\n",
    "lr.fit(train_df, train_target)\n",
    "test_df[\"predict\"] = lr.predict(test_df)\n",
    "test_df[\"target\"] = test_target"
   ]
  },
  {
   "cell_type": "code",
   "execution_count": 8,
   "id": "ef6d857f",
   "metadata": {},
   "outputs": [
    {
     "data": {
      "text/html": [
       "<div>\n",
       "<style scoped>\n",
       "    .dataframe tbody tr th:only-of-type {\n",
       "        vertical-align: middle;\n",
       "    }\n",
       "\n",
       "    .dataframe tbody tr th {\n",
       "        vertical-align: top;\n",
       "    }\n",
       "\n",
       "    .dataframe thead th {\n",
       "        text-align: right;\n",
       "    }\n",
       "</style>\n",
       "<table border=\"1\" class=\"dataframe\">\n",
       "  <thead>\n",
       "    <tr style=\"text-align: right;\">\n",
       "      <th></th>\n",
       "      <th>f_TX_AMOUNT</th>\n",
       "      <th>f_TX_TIME_SECONDS</th>\n",
       "      <th>f_mean_customer_TX_AMOUNT</th>\n",
       "      <th>f_mean_terminal_TX_AMOUNT</th>\n",
       "      <th>f_unq_terminals_per_customer</th>\n",
       "      <th>f_customer_amount_ratio</th>\n",
       "      <th>f_terminal_amount_ratio</th>\n",
       "      <th>predict</th>\n",
       "      <th>target</th>\n",
       "    </tr>\n",
       "  </thead>\n",
       "  <tbody>\n",
       "    <tr>\n",
       "      <th>17435</th>\n",
       "      <td>4.275586</td>\n",
       "      <td>-1.066814</td>\n",
       "      <td>1.923735</td>\n",
       "      <td>4.012968</td>\n",
       "      <td>0.0</td>\n",
       "      <td>2.272645</td>\n",
       "      <td>0.925284</td>\n",
       "      <td>0</td>\n",
       "      <td>1</td>\n",
       "    </tr>\n",
       "    <tr>\n",
       "      <th>27504</th>\n",
       "      <td>4.239012</td>\n",
       "      <td>-0.155784</td>\n",
       "      <td>3.479425</td>\n",
       "      <td>2.651104</td>\n",
       "      <td>0.0</td>\n",
       "      <td>0.856353</td>\n",
       "      <td>1.571442</td>\n",
       "      <td>0</td>\n",
       "      <td>1</td>\n",
       "    </tr>\n",
       "    <tr>\n",
       "      <th>13601</th>\n",
       "      <td>4.221103</td>\n",
       "      <td>-0.853672</td>\n",
       "      <td>1.745140</td>\n",
       "      <td>2.173512</td>\n",
       "      <td>0.0</td>\n",
       "      <td>2.465966</td>\n",
       "      <td>1.884686</td>\n",
       "      <td>0</td>\n",
       "      <td>1</td>\n",
       "    </tr>\n",
       "    <tr>\n",
       "      <th>5571</th>\n",
       "      <td>4.657223</td>\n",
       "      <td>1.623392</td>\n",
       "      <td>2.824694</td>\n",
       "      <td>2.834891</td>\n",
       "      <td>0.0</td>\n",
       "      <td>1.600499</td>\n",
       "      <td>1.689827</td>\n",
       "      <td>0</td>\n",
       "      <td>1</td>\n",
       "    </tr>\n",
       "    <tr>\n",
       "      <th>13603</th>\n",
       "      <td>4.221103</td>\n",
       "      <td>-0.853672</td>\n",
       "      <td>1.745140</td>\n",
       "      <td>2.173512</td>\n",
       "      <td>0.0</td>\n",
       "      <td>2.465966</td>\n",
       "      <td>1.884686</td>\n",
       "      <td>0</td>\n",
       "      <td>1</td>\n",
       "    </tr>\n",
       "    <tr>\n",
       "      <th>15813</th>\n",
       "      <td>5.719145</td>\n",
       "      <td>-1.196651</td>\n",
       "      <td>2.162305</td>\n",
       "      <td>2.311723</td>\n",
       "      <td>0.0</td>\n",
       "      <td>3.104997</td>\n",
       "      <td>2.689151</td>\n",
       "      <td>1</td>\n",
       "      <td>1</td>\n",
       "    </tr>\n",
       "    <tr>\n",
       "      <th>15883</th>\n",
       "      <td>3.474730</td>\n",
       "      <td>-1.458138</td>\n",
       "      <td>3.658532</td>\n",
       "      <td>0.445487</td>\n",
       "      <td>0.0</td>\n",
       "      <td>0.321140</td>\n",
       "      <td>3.200805</td>\n",
       "      <td>0</td>\n",
       "      <td>1</td>\n",
       "    </tr>\n",
       "    <tr>\n",
       "      <th>15449</th>\n",
       "      <td>5.419486</td>\n",
       "      <td>1.757571</td>\n",
       "      <td>1.171750</td>\n",
       "      <td>1.477604</td>\n",
       "      <td>0.0</td>\n",
       "      <td>4.680125</td>\n",
       "      <td>3.372671</td>\n",
       "      <td>1</td>\n",
       "      <td>1</td>\n",
       "    </tr>\n",
       "    <tr>\n",
       "      <th>6662</th>\n",
       "      <td>4.413308</td>\n",
       "      <td>1.320320</td>\n",
       "      <td>1.636560</td>\n",
       "      <td>1.182105</td>\n",
       "      <td>0.0</td>\n",
       "      <td>2.795775</td>\n",
       "      <td>2.978019</td>\n",
       "      <td>0</td>\n",
       "      <td>1</td>\n",
       "    </tr>\n",
       "  </tbody>\n",
       "</table>\n",
       "</div>"
      ],
      "text/plain": [
       "       f_TX_AMOUNT  f_TX_TIME_SECONDS  f_mean_customer_TX_AMOUNT  \\\n",
       "17435     4.275586          -1.066814                   1.923735   \n",
       "27504     4.239012          -0.155784                   3.479425   \n",
       "13601     4.221103          -0.853672                   1.745140   \n",
       "5571      4.657223           1.623392                   2.824694   \n",
       "13603     4.221103          -0.853672                   1.745140   \n",
       "15813     5.719145          -1.196651                   2.162305   \n",
       "15883     3.474730          -1.458138                   3.658532   \n",
       "15449     5.419486           1.757571                   1.171750   \n",
       "6662      4.413308           1.320320                   1.636560   \n",
       "\n",
       "       f_mean_terminal_TX_AMOUNT  f_unq_terminals_per_customer  \\\n",
       "17435                   4.012968                           0.0   \n",
       "27504                   2.651104                           0.0   \n",
       "13601                   2.173512                           0.0   \n",
       "5571                    2.834891                           0.0   \n",
       "13603                   2.173512                           0.0   \n",
       "15813                   2.311723                           0.0   \n",
       "15883                   0.445487                           0.0   \n",
       "15449                   1.477604                           0.0   \n",
       "6662                    1.182105                           0.0   \n",
       "\n",
       "       f_customer_amount_ratio  f_terminal_amount_ratio  predict  target  \n",
       "17435                 2.272645                 0.925284        0       1  \n",
       "27504                 0.856353                 1.571442        0       1  \n",
       "13601                 2.465966                 1.884686        0       1  \n",
       "5571                  1.600499                 1.689827        0       1  \n",
       "13603                 2.465966                 1.884686        0       1  \n",
       "15813                 3.104997                 2.689151        1       1  \n",
       "15883                 0.321140                 3.200805        0       1  \n",
       "15449                 4.680125                 3.372671        1       1  \n",
       "6662                  2.795775                 2.978019        0       1  "
      ]
     },
     "execution_count": 8,
     "metadata": {},
     "output_type": "execute_result"
    }
   ],
   "source": [
    "test_df[test_df[\"target\"] == 1]"
   ]
  },
  {
   "cell_type": "code",
   "execution_count": 9,
   "id": "fa889485",
   "metadata": {},
   "outputs": [
    {
     "name": "stdout",
     "output_type": "stream",
     "text": [
      "Found 4 items\r\n",
      "-rw-r--r--   1 ubuntu hadoop          0 2022-09-09 19:01 all_transactions_table.parquet/_SUCCESS\r\n",
      "drwxr-xr-x   - ubuntu hadoop          0 2022-09-06 20:40 all_transactions_table.parquet/date=2022-09-06\r\n",
      "drwxr-xr-x   - ubuntu hadoop          0 2022-09-09 19:01 all_transactions_table.parquet/date=2022-09-08\r\n",
      "drwxr-xr-x   - ubuntu hadoop          0 2022-09-09 19:01 all_transactions_table.parquet/date=2022-09-09\r\n"
     ]
    }
   ],
   "source": [
    "! hdfs dfs -ls ./all_transactions_table.parquet/"
   ]
  },
  {
   "cell_type": "code",
   "execution_count": 10,
   "id": "fe291a00",
   "metadata": {},
   "outputs": [
    {
     "name": "stdout",
     "output_type": "stream",
     "text": [
      "Found 4 items\r\n",
      "-rw-r--r--   1 ubuntu hadoop          0 2022-09-09 19:12 practice_1/features.parquet/_SUCCESS\r\n",
      "drwxr-xr-x   - ubuntu hadoop          0 2022-09-09 19:12 practice_1/features.parquet/date=2022-09-06\r\n",
      "drwxr-xr-x   - ubuntu hadoop          0 2022-09-09 19:12 practice_1/features.parquet/date=2022-09-08\r\n",
      "drwxr-xr-x   - ubuntu hadoop          0 2022-09-09 19:12 practice_1/features.parquet/date=2022-09-09\r\n"
     ]
    }
   ],
   "source": [
    "! hdfs dfs -ls ./practice_1/features.parquet/"
   ]
  },
  {
   "cell_type": "code",
   "execution_count": 11,
   "id": "3bd0bc19",
   "metadata": {},
   "outputs": [
    {
     "data": {
      "text/html": [
       "<div>\n",
       "<style scoped>\n",
       "    .dataframe tbody tr th:only-of-type {\n",
       "        vertical-align: middle;\n",
       "    }\n",
       "\n",
       "    .dataframe tbody tr th {\n",
       "        vertical-align: top;\n",
       "    }\n",
       "\n",
       "    .dataframe thead th {\n",
       "        text-align: right;\n",
       "    }\n",
       "</style>\n",
       "<table border=\"1\" class=\"dataframe\">\n",
       "  <thead>\n",
       "    <tr style=\"text-align: right;\">\n",
       "      <th></th>\n",
       "      <th>scaledFeatures</th>\n",
       "      <th>TX_FRAUD</th>\n",
       "      <th>date</th>\n",
       "    </tr>\n",
       "  </thead>\n",
       "  <tbody>\n",
       "    <tr>\n",
       "      <th>0</th>\n",
       "      <td>[0.18781528127408215, -1.1916602227553825, 1.5...</td>\n",
       "      <td>0</td>\n",
       "      <td>2022-09-08</td>\n",
       "    </tr>\n",
       "    <tr>\n",
       "      <th>1</th>\n",
       "      <td>[-0.7159539003608556, -0.35581083080726184, -0...</td>\n",
       "      <td>0</td>\n",
       "      <td>2022-09-08</td>\n",
       "    </tr>\n",
       "    <tr>\n",
       "      <th>2</th>\n",
       "      <td>[-1.1308856066933906, 0.024210238302047084, -1...</td>\n",
       "      <td>0</td>\n",
       "      <td>2022-09-08</td>\n",
       "    </tr>\n",
       "    <tr>\n",
       "      <th>3</th>\n",
       "      <td>[-0.016497595400296803, -0.10665631397324175, ...</td>\n",
       "      <td>0</td>\n",
       "      <td>2022-09-08</td>\n",
       "    </tr>\n",
       "    <tr>\n",
       "      <th>4</th>\n",
       "      <td>[-0.22257613891013317, -0.5499508127528502, 0....</td>\n",
       "      <td>0</td>\n",
       "      <td>2022-09-08</td>\n",
       "    </tr>\n",
       "    <tr>\n",
       "      <th>5</th>\n",
       "      <td>[-0.36206381891128325, -0.5033518454470265, -0...</td>\n",
       "      <td>0</td>\n",
       "      <td>2022-09-08</td>\n",
       "    </tr>\n",
       "    <tr>\n",
       "      <th>6</th>\n",
       "      <td>[0.08591108105624379, -0.6643443391217576, 0.5...</td>\n",
       "      <td>0</td>\n",
       "      <td>2022-09-08</td>\n",
       "    </tr>\n",
       "    <tr>\n",
       "      <th>7</th>\n",
       "      <td>[-0.6914868027838004, -0.9059337978629014, -0....</td>\n",
       "      <td>0</td>\n",
       "      <td>2022-09-08</td>\n",
       "    </tr>\n",
       "    <tr>\n",
       "      <th>8</th>\n",
       "      <td>[-1.2320330925531757, -1.2125424689111624, -1....</td>\n",
       "      <td>0</td>\n",
       "      <td>2022-09-08</td>\n",
       "    </tr>\n",
       "    <tr>\n",
       "      <th>9</th>\n",
       "      <td>[-1.266085238665572, -0.6363894351039987, -1.4...</td>\n",
       "      <td>0</td>\n",
       "      <td>2022-09-08</td>\n",
       "    </tr>\n",
       "  </tbody>\n",
       "</table>\n",
       "</div>"
      ],
      "text/plain": [
       "                                      scaledFeatures  TX_FRAUD        date\n",
       "0  [0.18781528127408215, -1.1916602227553825, 1.5...         0  2022-09-08\n",
       "1  [-0.7159539003608556, -0.35581083080726184, -0...         0  2022-09-08\n",
       "2  [-1.1308856066933906, 0.024210238302047084, -1...         0  2022-09-08\n",
       "3  [-0.016497595400296803, -0.10665631397324175, ...         0  2022-09-08\n",
       "4  [-0.22257613891013317, -0.5499508127528502, 0....         0  2022-09-08\n",
       "5  [-0.36206381891128325, -0.5033518454470265, -0...         0  2022-09-08\n",
       "6  [0.08591108105624379, -0.6643443391217576, 0.5...         0  2022-09-08\n",
       "7  [-0.6914868027838004, -0.9059337978629014, -0....         0  2022-09-08\n",
       "8  [-1.2320330925531757, -1.2125424689111624, -1....         0  2022-09-08\n",
       "9  [-1.266085238665572, -0.6363894351039987, -1.4...         0  2022-09-08"
      ]
     },
     "execution_count": 11,
     "metadata": {},
     "output_type": "execute_result"
    }
   ],
   "source": [
    "spark.read.parquet(\"./practice_1/features.parquet/\").limit(10).toPandas()"
   ]
  },
  {
   "cell_type": "code",
   "execution_count": 12,
   "id": "4f8ff108",
   "metadata": {},
   "outputs": [],
   "source": [
    "spark.stop()"
   ]
  },
  {
   "cell_type": "code",
   "execution_count": null,
   "id": "299bc6b0",
   "metadata": {},
   "outputs": [],
   "source": []
  }
 ],
 "metadata": {
  "kernelspec": {
   "display_name": "Python 3",
   "language": "python",
   "name": "python3"
  },
  "language_info": {
   "codemirror_mode": {
    "name": "ipython",
    "version": 3
   },
   "file_extension": ".py",
   "mimetype": "text/x-python",
   "name": "python",
   "nbconvert_exporter": "python",
   "pygments_lexer": "ipython3",
   "version": "3.8.10"
  }
 },
 "nbformat": 4,
 "nbformat_minor": 5
}
