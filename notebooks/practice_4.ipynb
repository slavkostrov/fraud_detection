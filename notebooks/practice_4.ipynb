{
 "cells": [
  {
   "cell_type": "code",
   "execution_count": 1,
   "id": "ce42b75e",
   "metadata": {},
   "outputs": [
    {
     "data": {
      "text/plain": [
       "<pyspark.conf.SparkConf at 0x7f52cc7cffa0>"
      ]
     },
     "execution_count": 1,
     "metadata": {},
     "output_type": "execute_result"
    }
   ],
   "source": [
    "import findspark\n",
    "findspark.init()\n",
    "\n",
    "import pyspark\n",
    "from pyspark import SparkContext, SparkConf\n",
    "\n",
    "conf = SparkConf()\n",
    "conf.setAppName('practice_2')\n",
    "conf.set(\"spark.dynamicAllocation.enabled\", \"true\")\n",
    "conf.set(\"spark.sql.sources.partitionOverwriteMode\",\"dynamic\")\n",
    "conf.set(\"spark.driver.maxResultSize\", \"4G\")\n",
    "conf.set(\"spark.driver.memory\", \"4G\")\n",
    "conf.set(\"spark.executor.memory\", \"4G\")\n",
    "conf.set(\"spark.driver.allowMultipleContexts\", \"true\")"
   ]
  },
  {
   "cell_type": "code",
   "execution_count": 7,
   "id": "6ae4a68b",
   "metadata": {},
   "outputs": [
    {
     "name": "stdout",
     "output_type": "stream",
     "text": [
      "Found 2 items\r\n",
      "-rw-r--r--   1 ubuntu hadoop          0 2022-09-06 20:40 all_transactions_table.parquet/_SUCCESS\r\n",
      "drwxr-xr-x   - ubuntu hadoop          0 2022-09-06 20:40 all_transactions_table.parquet/date=2022-09-06\r\n"
     ]
    }
   ],
   "source": [
    "! hdfs dfs -ls ./all_transactions_table.parquet"
   ]
  },
  {
   "cell_type": "code",
   "execution_count": null,
   "id": "885603f7",
   "metadata": {},
   "outputs": [],
   "source": [
    "spark = pyspark.sql.SparkSession.builder.config(conf=conf).getOrCreate()\n",
    "\n",
    "table = spark.read.parquet(\"/user/ubuntu/practice_1/all_transactions_table.parquet\")"
   ]
  },
  {
   "cell_type": "code",
   "execution_count": null,
   "id": "9260d5a3",
   "metadata": {},
   "outputs": [],
   "source": [
    "table.printSchema()"
   ]
  }
 ],
 "metadata": {
  "kernelspec": {
   "display_name": "Python 3",
   "language": "python",
   "name": "python3"
  },
  "language_info": {
   "codemirror_mode": {
    "name": "ipython",
    "version": 3
   },
   "file_extension": ".py",
   "mimetype": "text/x-python",
   "name": "python",
   "nbconvert_exporter": "python",
   "pygments_lexer": "ipython3",
   "version": "3.8.10"
  }
 },
 "nbformat": 4,
 "nbformat_minor": 5
}
